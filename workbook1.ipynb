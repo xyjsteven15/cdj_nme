{
 "cells": [
  {
   "cell_type": "markdown",
   "metadata": {},
   "source": [
    "## Workbook 1: Basics in Python\n",
    "\n",
    "All resources, unless otherwise specified, are created by Nikhil Chinchalkar"
   ]
  },
  {
   "cell_type": "markdown",
   "metadata": {},
   "source": [
    "Python is an great tool for both general software engineering as well as data science. The beauty of the langauge comes in its simplicity: unlike other programs, the syntax is pretty straight forward and easy to learn. This is just a (kinda) short overview of some of the tools and techniques you might need in your data science journey. This won't cover all of Python, for that you should take a course like CS 1110 nor will it go as in depth into data science techniques as a course like INFO 2950. \n",
    "\n",
    "Instead, to be 100% honest, my goal for these types of workbooks is for you to be able to properly Google the answers to certain questions you might have and error messages you encounter. That's what programming is at the end of the day."
   ]
  },
  {
   "cell_type": "markdown",
   "metadata": {},
   "source": [
    "### A: Libraries, Loops, Lists"
   ]
  },
  {
   "cell_type": "markdown",
   "metadata": {},
   "source": [
    "Libraries are sets of functions that we can import into our project to help solve certain problems: how to read in a csv, how to merge two datasets, how to make a scatter plot, etc. These libraries come with documentation that's very useful. You should pretty much never read the documentation front to back - rather, reference it when you're getting errors or unsure of functions. \n",
    "\n",
    "We'll import two standard libraries for now, using the keyword `as` to create nicknames for the libraries, so it's easier to reference later."
   ]
  },
  {
   "cell_type": "code",
   "execution_count": 3,
   "metadata": {},
   "outputs": [],
   "source": [
    "import numpy as np\n",
    "import pandas as pd"
   ]
  },
  {
   "cell_type": "markdown",
   "metadata": {},
   "source": [
    "If the above gave you an error, try commenting out the line below and re-running it once the stuff below has finished."
   ]
  },
  {
   "cell_type": "code",
   "execution_count": null,
   "metadata": {},
   "outputs": [
    {
     "name": "stdout",
     "output_type": "stream",
     "text": [
      "Collecting numpy\n",
      "  Downloading numpy-2.3.3-cp313-cp313-macosx_14_0_arm64.whl.metadata (62 kB)\n",
      "Downloading numpy-2.3.3-cp313-cp313-macosx_14_0_arm64.whl (5.1 MB)\n",
      "\u001b[2K   \u001b[90m━━━━━━━━━━━━━━━━━━━━━━━━━━━━━━━━━━━━━━━━\u001b[0m \u001b[32m5.1/5.1 MB\u001b[0m \u001b[31m22.8 MB/s\u001b[0m  \u001b[33m0:00:00\u001b[0m eta \u001b[36m0:00:01\u001b[0m\n",
      "\u001b[?25hInstalling collected packages: numpy\n",
      "Successfully installed numpy-2.3.3\n",
      "Note: you may need to restart the kernel to use updated packages.\n",
      "Collecting pandas\n",
      "  Downloading pandas-2.3.3-cp313-cp313-macosx_11_0_arm64.whl.metadata (91 kB)\n",
      "Requirement already satisfied: numpy>=1.26.0 in /opt/anaconda3/envs/datajournal/lib/python3.13/site-packages (from pandas) (2.3.3)\n",
      "Requirement already satisfied: python-dateutil>=2.8.2 in /opt/anaconda3/envs/datajournal/lib/python3.13/site-packages (from pandas) (2.9.0.post0)\n",
      "Collecting pytz>=2020.1 (from pandas)\n",
      "  Downloading pytz-2025.2-py2.py3-none-any.whl.metadata (22 kB)\n",
      "Collecting tzdata>=2022.7 (from pandas)\n",
      "  Downloading tzdata-2025.2-py2.py3-none-any.whl.metadata (1.4 kB)\n",
      "Requirement already satisfied: six>=1.5 in /opt/anaconda3/envs/datajournal/lib/python3.13/site-packages (from python-dateutil>=2.8.2->pandas) (1.17.0)\n",
      "Downloading pandas-2.3.3-cp313-cp313-macosx_11_0_arm64.whl (10.7 MB)\n",
      "\u001b[2K   \u001b[90m━━━━━━━━━━━━━━━━━━━━━━━━━━━━━━━━━━━━━━━━\u001b[0m \u001b[32m10.7/10.7 MB\u001b[0m \u001b[31m16.9 MB/s\u001b[0m  \u001b[33m0:00:00\u001b[0mm0:00:01\u001b[0m0:01\u001b[0m\n",
      "\u001b[?25hDownloading pytz-2025.2-py2.py3-none-any.whl (509 kB)\n",
      "Downloading tzdata-2025.2-py2.py3-none-any.whl (347 kB)\n",
      "Installing collected packages: pytz, tzdata, pandas\n",
      "\u001b[2K   \u001b[90m━━━━━━━━━━━━━━━━━━━━━━━━━━━━━━━━━━━━━━━━\u001b[0m \u001b[32m3/3\u001b[0m [pandas]2m2/3\u001b[0m [pandas]\n",
      "\u001b[1A\u001b[2KSuccessfully installed pandas-2.3.3 pytz-2025.2 tzdata-2025.2\n",
      "Note: you may need to restart the kernel to use updated packages.\n"
     ]
    }
   ],
   "source": [
    "#%pip install numpy\n",
    "#%pip install pandas"
   ]
  },
  {
   "cell_type": "markdown",
   "metadata": {},
   "source": [
    "`NumPy` is used a lot of basics like math functions and arrays. Arrays are bascially lists of objects of the same type: so either strings (words) or integers (numbers) or floats (decimals), to name a few. There's a ton of function that we can talk about with arrays, but we'll stick to some basic ones, for now. Note that there's also stuff similar to arrays, like lists and tuples, but we're not going to talk about those right now, since they're very similar to arrays.\n",
    "\n",
    "I'm initializing below an array of the first 100 integers, starting from 0 (up to 99). This is what we'll be using to learn about some of the functions."
   ]
  },
  {
   "cell_type": "code",
   "execution_count": 6,
   "metadata": {},
   "outputs": [
    {
     "name": "stdout",
     "output_type": "stream",
     "text": [
      "[ 0  1  2  3  4  5  6  7  8  9 10 11 12 13 14 15 16 17 18 19 20 21 22 23\n",
      " 24 25 26 27 28 29 30 31 32 33 34 35 36 37 38 39 40 41 42 43 44 45 46 47\n",
      " 48 49 50 51 52 53 54 55 56 57 58 59 60 61 62 63 64 65 66 67 68 69 70 71\n",
      " 72 73 74 75 76 77 78 79 80 81 82 83 84 85 86 87 88 89 90 91 92 93 94 95\n",
      " 96 97 98 99]\n"
     ]
    }
   ],
   "source": [
    "random_list = np.arange(100)\n",
    "print (random_list)\n"
   ]
  },
  {
   "cell_type": "markdown",
   "metadata": {},
   "source": [
    "Print out the array to make sure you get the expected list."
   ]
  },
  {
   "cell_type": "code",
   "execution_count": 6,
   "metadata": {},
   "outputs": [],
   "source": [
    "#A1 your code here:"
   ]
  },
  {
   "cell_type": "markdown",
   "metadata": {},
   "source": [
    "Expected output:\n",
    "\n",
    "`[ 0  1  2  3  4  5  6  7  8  9 10 11 12 13 14 15 16 17 18 19 20 21 22 23\n",
    " 24 25 26 27 28 29 30 31 32 33 34 35 36 37 38 39 40 41 42 43 44 45 46 47\n",
    " 48 49 50 51 52 53 54 55 56 57 58 59 60 61 62 63 64 65 66 67 68 69 70 71\n",
    " 72 73 74 75 76 77 78 79 80 81 82 83 84 85 86 87 88 89 90 91 92 93 94 95\n",
    " 96 97 98 99]`"
   ]
  },
  {
   "cell_type": "markdown",
   "metadata": {},
   "source": [
    "First, we'll learn about indexing, which is just a fancy name for accessing certain elements of the array. Most things in Python are 0-indexed, which just means that the first item of the list is at position 0. This might seem counter intuitive now, but as you learn more about programming you'll learn that having things 0-indexed makes certain algorithms way easier."
   ]
  },
  {
   "cell_type": "code",
   "execution_count": 15,
   "metadata": {},
   "outputs": [
    {
     "name": "stdout",
     "output_type": "stream",
     "text": [
      "0\n",
      "[ 5  6  7  8  9 10 11 12 13 14]\n",
      "[95 96 97 98 99]\n",
      "[0 1 2 3 4]\n"
     ]
    }
   ],
   "source": [
    "#the [ ] allows us to access elements from an array\n",
    "print(random_list[0])\n",
    "\n",
    "#the : operator can be used to access elements across a certain range - note that 15 is exclusive, whereas 5 is inclusive\n",
    "print(random_list[5:15])\n",
    "\n",
    "#we can also not use a number at either end of our : to indicate we want python to go all the way to the end of that direction\n",
    "print(random_list[95:])\n",
    "\n",
    "print(random_list[:5])"
   ]
  },
  {
   "cell_type": "markdown",
   "metadata": {},
   "source": [
    "It's your turn now! Print out the following using the same type of syntax (i.e. don't using 10 print statements to print each number):"
   ]
  },
  {
   "cell_type": "code",
   "execution_count": 21,
   "metadata": {},
   "outputs": [
    {
     "name": "stdout",
     "output_type": "stream",
     "text": [
      "90\n",
      "[10 11 12 13 14 15 16 17 18 19 20]\n",
      "[90 91 92 93 94 95 96 97 98 99]\n"
     ]
    }
   ],
   "source": [
    "#A2 your code here:\n",
    "#print the element at index 90 of the array\n",
    "print(random_list[90])\n",
    "#print the elements from index 10 to index 20\n",
    "print(random_list[10:21])\n",
    "#print the last 10 elements of the array\n",
    "print(random_list[len(random_list)-10:])"
   ]
  },
  {
   "cell_type": "code",
   "execution_count": null,
   "metadata": {},
   "outputs": [],
   "source": []
  },
  {
   "cell_type": "markdown",
   "metadata": {},
   "source": [
    "Expected output:\n",
    "\n",
    "```\n",
    "90\n",
    "[10 11 12 13 14 15 16 17 18 19 20]\n",
    "[89 90 91 92 93 94 95 96 97 98 99]\n",
    "```"
   ]
  },
  {
   "cell_type": "markdown",
   "metadata": {},
   "source": [
    "We can also do math on these lists: let's say I wanted the list to start at 1 instead of 0. I can just add 1 to each element of the list to achieve that effect:"
   ]
  },
  {
   "cell_type": "code",
   "execution_count": 9,
   "metadata": {},
   "outputs": [
    {
     "name": "stdout",
     "output_type": "stream",
     "text": [
      "[  1   2   3   4   5   6   7   8   9  10  11  12  13  14  15  16  17  18\n",
      "  19  20  21  22  23  24  25  26  27  28  29  30  31  32  33  34  35  36\n",
      "  37  38  39  40  41  42  43  44  45  46  47  48  49  50  51  52  53  54\n",
      "  55  56  57  58  59  60  61  62  63  64  65  66  67  68  69  70  71  72\n",
      "  73  74  75  76  77  78  79  80  81  82  83  84  85  86  87  88  89  90\n",
      "  91  92  93  94  95  96  97  98  99 100]\n"
     ]
    }
   ],
   "source": [
    "random_list = random_list + 1\n",
    "\n",
    "print(random_list)"
   ]
  },
  {
   "cell_type": "markdown",
   "metadata": {},
   "source": [
    "A couple of things about that previous call: if you run it a bunch of times, you might be adding more than 1 to your array. Second, the first line is obviously not mathematically sound, but it is OK to do in programming. All it means is that we take `random_list`, add 1 to it, then set it back equal to `random_list` again, effectively overwriting it's previous version."
   ]
  },
  {
   "cell_type": "markdown",
   "metadata": {},
   "source": [
    "We can do the same for a natural log, using the `np.log` command:"
   ]
  },
  {
   "cell_type": "code",
   "execution_count": 10,
   "metadata": {},
   "outputs": [
    {
     "name": "stdout",
     "output_type": "stream",
     "text": [
      "[0.         0.69314718 1.09861229 1.38629436 1.60943791 1.79175947\n",
      " 1.94591015 2.07944154 2.19722458 2.30258509 2.39789527 2.48490665\n",
      " 2.56494936 2.63905733 2.7080502  2.77258872 2.83321334 2.89037176\n",
      " 2.94443898 2.99573227 3.04452244 3.09104245 3.13549422 3.17805383\n",
      " 3.21887582 3.25809654 3.29583687 3.33220451 3.36729583 3.40119738\n",
      " 3.4339872  3.4657359  3.49650756 3.52636052 3.55534806 3.58351894\n",
      " 3.61091791 3.63758616 3.66356165 3.68887945 3.71357207 3.73766962\n",
      " 3.76120012 3.78418963 3.80666249 3.8286414  3.8501476  3.87120101\n",
      " 3.8918203  3.91202301 3.93182563 3.95124372 3.97029191 3.98898405\n",
      " 4.00733319 4.02535169 4.04305127 4.06044301 4.07753744 4.09434456\n",
      " 4.11087386 4.12713439 4.14313473 4.15888308 4.17438727 4.18965474\n",
      " 4.20469262 4.21950771 4.2341065  4.24849524 4.26267988 4.27666612\n",
      " 4.29045944 4.30406509 4.31748811 4.33073334 4.34380542 4.35670883\n",
      " 4.36944785 4.38202663 4.39444915 4.40671925 4.41884061 4.4308168\n",
      " 4.44265126 4.4543473  4.46590812 4.47733681 4.48863637 4.49980967\n",
      " 4.51085951 4.52178858 4.53259949 4.54329478 4.55387689 4.56434819\n",
      " 4.57471098 4.58496748 4.59511985 4.60517019]\n"
     ]
    }
   ],
   "source": [
    "print(np.log(random_list))"
   ]
  },
  {
   "cell_type": "markdown",
   "metadata": {},
   "source": [
    "That last cell is important - I'll explain a bit more about functions later, but all the `np.log` is doing is taking in the list and taking the log of each element. To know what to use to achieve a desired effect like the natural log just comes from Googling how to do that task in Python."
   ]
  },
  {
   "cell_type": "markdown",
   "metadata": {},
   "source": [
    "There's a few things we have left to do in the world of arrays. What if we wanted to make a new array of only even numbers? We could create a new array from scratch, Googling how to initialize it, or we could take our array of integers from (now) 1 to 100, and filter out the odds. To do so, we need to learn about boolean indexing. Booleans are a type in Python that can only be either `True` or `False`. For instance, `5 % 2 == 0`, which tests 5 against 2 using the modulus operator (so it returns the remainder when 5 is divided by 2), will return `False`, since `5 % 2` is 1, and `1 == 0` is not true. Note that here, `==` is an equality operator not an assignment operator, like `=` is. "
   ]
  },
  {
   "cell_type": "code",
   "execution_count": 11,
   "metadata": {},
   "outputs": [
    {
     "name": "stdout",
     "output_type": "stream",
     "text": [
      "[False  True False  True False  True False  True False  True False  True\n",
      " False  True False  True False  True False  True False  True False  True\n",
      " False  True False  True False  True False  True False  True False  True\n",
      " False  True False  True False  True False  True False  True False  True\n",
      " False  True False  True False  True False  True False  True False  True\n",
      " False  True False  True False  True False  True False  True False  True\n",
      " False  True False  True False  True False  True False  True False  True\n",
      " False  True False  True False  True False  True False  True False  True\n",
      " False  True False  True]\n",
      "[  2   4   6   8  10  12  14  16  18  20  22  24  26  28  30  32  34  36\n",
      "  38  40  42  44  46  48  50  52  54  56  58  60  62  64  66  68  70  72\n",
      "  74  76  78  80  82  84  86  88  90  92  94  96  98 100]\n"
     ]
    }
   ],
   "source": [
    "#boolean index array that shows where all the odds (falses) are:\n",
    "print(random_list % 2 == 0)\n",
    "\n",
    "#taking the boolean index array into the new array allows us to filter out the falses\n",
    "even_list = random_list[random_list % 2 == 0]\n",
    "print(even_list)"
   ]
  },
  {
   "cell_type": "markdown",
   "metadata": {},
   "source": [
    "The last thing we'll end on is `for` loops, which can be used in certain specific data science applications. Let's say we wanted to add the next 50 evens, to have our list of evens go from 2 to 200. We can do that with a `for` loop, which would just cycle through each even, and add it to our list. This is way faster than doing it manually, which is why it's preferred by programmers.\n",
    "\n",
    "Note that in the following code segment, I'm using a function called np.append that takes in two parameters: even_list (the list I want to append to) and 2*i, which is the value I want to append. This format of functions and parameters is something that will come up a lot later, so make sure you understand what a function is and how parameters are passed to it."
   ]
  },
  {
   "cell_type": "code",
   "execution_count": 12,
   "metadata": {},
   "outputs": [
    {
     "name": "stdout",
     "output_type": "stream",
     "text": [
      "[  2   4   6   8  10  12  14  16  18  20  22  24  26  28  30  32  34  36\n",
      "  38  40  42  44  46  48  50  52  54  56  58  60  62  64  66  68  70  72\n",
      "  74  76  78  80  82  84  86  88  90  92  94  96  98 100 102 104 106 108\n",
      " 110 112 114 116 118 120 122 124 126 128 130 132 134 136 138 140 142 144\n",
      " 146 148 150 152 154 156 158 160 162 164 166 168 170 172 174 176 178 180\n",
      " 182 184 186 188 190 192 194 196 198 200]\n"
     ]
    }
   ],
   "source": [
    "#for i in range just means for each value in the range from 51 and 101 (exclusive)\n",
    "for i in range(51,101):\n",
    "    #we use the np.append function to append 2*i, which will range from 102 to 200 (evens only)\n",
    "    even_list = np.append(arr=even_list, values=2*i)\n",
    "    \n",
    "print(even_list)"
   ]
  },
  {
   "cell_type": "markdown",
   "metadata": {},
   "source": [
    "Now we'll put everything together. Once you complete this mini-assignment, you should feel confident about your ability to learn about NumPy arrays, which are the foundation of Pandas dataframes, which is likely how you'll be spending most of your programming time in CDJ. \n",
    "\n",
    "I've made a `test_list` array object that has a bunch of numbers. I want you to do the following:\n",
    "\n",
    " 1. Add 100 to each number in the list\n",
    " 2. Use [np.power()](https://numpy.org/doc/2.1/reference/generated/numpy.power.html) to take 10 to the power of each value in `test_list` (i.e. set 10 as the base and each value in `test_list` as the exponent)\n",
    " 3. Use [np.round()](https://numpy.org/doc/2.1/reference/generated/numpy.round.html) to round each of the values in the list to the nearest whole number\n",
    " 4. Print the first 5 elements of the list\n",
    "\n",
    "The expected output won't be provided here, but you'll know if you did the steps right if you see a very recognizable pattern in your output."
   ]
  },
  {
   "cell_type": "code",
   "execution_count": 36,
   "metadata": {},
   "outputs": [
    {
     "name": "stdout",
     "output_type": "stream",
     "text": [
      "[0.47712125 0.         0.60205999 0.         0.69897    0.95424251\n",
      " 0.30103    0.77815125 0.69897    0.47712125 0.69897    0.90308999\n",
      " 0.95424251 0.84509804 0.95424251 0.47712125 0.30103    0.47712125\n",
      " 0.90308999 0.60205999 0.77815125 0.30103    0.77815125 0.60205999]\n",
      "[2.99999997e-100 1.00000000e-100 3.99999999e-100 1.00000000e-100\n",
      " 4.99999995e-100 9.00000001e-100 2.00000002e-100 5.99999999e-100\n",
      " 4.99999995e-100 2.99999997e-100 4.99999995e-100 8.00000006e-100\n",
      " 9.00000001e-100 7.00000000e-100 9.00000001e-100 2.99999997e-100\n",
      " 2.00000002e-100 2.99999997e-100 8.00000006e-100 3.99999999e-100\n",
      " 5.99999999e-100 2.00000002e-100 5.99999999e-100 3.99999999e-100]\n",
      "[-100. -100.  -99. -100.  -99.  -99. -100.  -99.  -99. -100.  -99.  -99.\n",
      "  -99.  -99.  -99. -100. -100. -100.  -99.  -99.  -99. -100.  -99.  -99.]\n",
      "[ -99.52287875 -100.          -99.39794001 -100.          -99.30103   ]\n"
     ]
    }
   ],
   "source": [
    "#A3 your code here\n",
    "test_list = np.array([ -99.52287875, -100.        ,  -99.39794001, -100.        ,\n",
    "        -99.30103   ,  -99.04575749,  -99.69897   ,  -99.22184875,\n",
    "        -99.30103   ,  -99.52287875,  -99.30103   ,  -99.09691001,\n",
    "        -99.04575749,  -99.15490196,  -99.04575749,  -99.52287875,\n",
    "        -99.69897   ,  -99.52287875,  -99.09691001,  -99.39794001,\n",
    "        -99.22184875,  -99.69897   ,  -99.22184875,  -99.39794001])\n",
    "print(test_list+100)\n",
    "print(np.power(10,test_list))\n",
    "print(np.round(test_list))\n",
    "print(test_list[:5])"
   ]
  },
  {
   "cell_type": "markdown",
   "metadata": {},
   "source": [
    "### B: Dataframes and Pandas"
   ]
  },
  {
   "cell_type": "markdown",
   "metadata": {},
   "source": [
    "If the above section seemed a little boring, that's fine: it kind of should be. When I started learning data science I felt the same way - I wanted to see a real world application. You'll soon see that in your own groups, but I can give you a taste of what's to come."
   ]
  },
  {
   "cell_type": "markdown",
   "metadata": {},
   "source": [
    "[Gapminder](https://www.gapminder.org/tools/#chart-type=bubbles&url=v2) is one of the most popular animated and interactive visuals. It's something that we'll recreate from scratch later in NME, but for now I'll just show you how to access the data, which we'll manipulate later.\n",
    "\n",
    "You can download the data from [here](https://github.com/kirenz/datasets/blob/master/gapminder.csv)."
   ]
  },
  {
   "cell_type": "code",
   "execution_count": 38,
   "metadata": {},
   "outputs": [
    {
     "data": {
      "text/html": [
       "<div>\n",
       "<style scoped>\n",
       "    .dataframe tbody tr th:only-of-type {\n",
       "        vertical-align: middle;\n",
       "    }\n",
       "\n",
       "    .dataframe tbody tr th {\n",
       "        vertical-align: top;\n",
       "    }\n",
       "\n",
       "    .dataframe thead th {\n",
       "        text-align: right;\n",
       "    }\n",
       "</style>\n",
       "<table border=\"1\" class=\"dataframe\">\n",
       "  <thead>\n",
       "    <tr style=\"text-align: right;\">\n",
       "      <th></th>\n",
       "      <th>country</th>\n",
       "      <th>continent</th>\n",
       "      <th>year</th>\n",
       "      <th>lifeExp</th>\n",
       "      <th>pop</th>\n",
       "      <th>gdpPercap</th>\n",
       "    </tr>\n",
       "  </thead>\n",
       "  <tbody>\n",
       "    <tr>\n",
       "      <th>0</th>\n",
       "      <td>Afghanistan</td>\n",
       "      <td>Asia</td>\n",
       "      <td>1952</td>\n",
       "      <td>28.801</td>\n",
       "      <td>8425333</td>\n",
       "      <td>779.445314</td>\n",
       "    </tr>\n",
       "    <tr>\n",
       "      <th>1</th>\n",
       "      <td>Afghanistan</td>\n",
       "      <td>Asia</td>\n",
       "      <td>1957</td>\n",
       "      <td>30.332</td>\n",
       "      <td>9240934</td>\n",
       "      <td>820.853030</td>\n",
       "    </tr>\n",
       "    <tr>\n",
       "      <th>2</th>\n",
       "      <td>Afghanistan</td>\n",
       "      <td>Asia</td>\n",
       "      <td>1962</td>\n",
       "      <td>31.997</td>\n",
       "      <td>10267083</td>\n",
       "      <td>853.100710</td>\n",
       "    </tr>\n",
       "    <tr>\n",
       "      <th>3</th>\n",
       "      <td>Afghanistan</td>\n",
       "      <td>Asia</td>\n",
       "      <td>1967</td>\n",
       "      <td>34.020</td>\n",
       "      <td>11537966</td>\n",
       "      <td>836.197138</td>\n",
       "    </tr>\n",
       "    <tr>\n",
       "      <th>4</th>\n",
       "      <td>Afghanistan</td>\n",
       "      <td>Asia</td>\n",
       "      <td>1972</td>\n",
       "      <td>36.088</td>\n",
       "      <td>13079460</td>\n",
       "      <td>739.981106</td>\n",
       "    </tr>\n",
       "    <tr>\n",
       "      <th>...</th>\n",
       "      <td>...</td>\n",
       "      <td>...</td>\n",
       "      <td>...</td>\n",
       "      <td>...</td>\n",
       "      <td>...</td>\n",
       "      <td>...</td>\n",
       "    </tr>\n",
       "    <tr>\n",
       "      <th>1699</th>\n",
       "      <td>Zimbabwe</td>\n",
       "      <td>Africa</td>\n",
       "      <td>1987</td>\n",
       "      <td>62.351</td>\n",
       "      <td>9216418</td>\n",
       "      <td>706.157306</td>\n",
       "    </tr>\n",
       "    <tr>\n",
       "      <th>1700</th>\n",
       "      <td>Zimbabwe</td>\n",
       "      <td>Africa</td>\n",
       "      <td>1992</td>\n",
       "      <td>60.377</td>\n",
       "      <td>10704340</td>\n",
       "      <td>693.420786</td>\n",
       "    </tr>\n",
       "    <tr>\n",
       "      <th>1701</th>\n",
       "      <td>Zimbabwe</td>\n",
       "      <td>Africa</td>\n",
       "      <td>1997</td>\n",
       "      <td>46.809</td>\n",
       "      <td>11404948</td>\n",
       "      <td>792.449960</td>\n",
       "    </tr>\n",
       "    <tr>\n",
       "      <th>1702</th>\n",
       "      <td>Zimbabwe</td>\n",
       "      <td>Africa</td>\n",
       "      <td>2002</td>\n",
       "      <td>39.989</td>\n",
       "      <td>11926563</td>\n",
       "      <td>672.038623</td>\n",
       "    </tr>\n",
       "    <tr>\n",
       "      <th>1703</th>\n",
       "      <td>Zimbabwe</td>\n",
       "      <td>Africa</td>\n",
       "      <td>2007</td>\n",
       "      <td>43.487</td>\n",
       "      <td>12311143</td>\n",
       "      <td>469.709298</td>\n",
       "    </tr>\n",
       "  </tbody>\n",
       "</table>\n",
       "<p>1704 rows × 6 columns</p>\n",
       "</div>"
      ],
      "text/plain": [
       "          country continent  year  lifeExp       pop   gdpPercap\n",
       "0     Afghanistan      Asia  1952   28.801   8425333  779.445314\n",
       "1     Afghanistan      Asia  1957   30.332   9240934  820.853030\n",
       "2     Afghanistan      Asia  1962   31.997  10267083  853.100710\n",
       "3     Afghanistan      Asia  1967   34.020  11537966  836.197138\n",
       "4     Afghanistan      Asia  1972   36.088  13079460  739.981106\n",
       "...           ...       ...   ...      ...       ...         ...\n",
       "1699     Zimbabwe    Africa  1987   62.351   9216418  706.157306\n",
       "1700     Zimbabwe    Africa  1992   60.377  10704340  693.420786\n",
       "1701     Zimbabwe    Africa  1997   46.809  11404948  792.449960\n",
       "1702     Zimbabwe    Africa  2002   39.989  11926563  672.038623\n",
       "1703     Zimbabwe    Africa  2007   43.487  12311143  469.709298\n",
       "\n",
       "[1704 rows x 6 columns]"
      ]
     },
     "execution_count": 38,
     "metadata": {},
     "output_type": "execute_result"
    }
   ],
   "source": [
    "gapminder = pd.read_csv('gapminder.csv')\n",
    "\n",
    "gapminder"
   ]
  },
  {
   "cell_type": "markdown",
   "metadata": {},
   "source": [
    "We just imported a dataframe from a .csv file, which is probably what most of you will be doing in your project teams. A dataframe is like a 2-D list, with rows and columns. Importantly, each column is a `Series` object, which is very similar to a list, so we can perform some very similar operations like the ones we saw above."
   ]
  },
  {
   "cell_type": "markdown",
   "metadata": {},
   "source": [
    "Let's start with indexing dataframes. There's a bunch of ways to do this and I'll give a bunch of examples for you to reference:"
   ]
  },
  {
   "cell_type": "markdown",
   "metadata": {},
   "source": [
    "`.loc` and `.iloc` are standard ways to access certain locations of data, either based on an integer position or a label. You can probably guess that `.iloc` uses an integer position, whereas `.loc` uses a boolean or label. Most of the time, you'll use `.loc`, but `.iloc` is still good to know."
   ]
  },
  {
   "cell_type": "code",
   "execution_count": 15,
   "metadata": {},
   "outputs": [
    {
     "name": "stdout",
     "output_type": "stream",
     "text": [
      "country      Afghanistan\n",
      "continent           Asia\n",
      "year                1957\n",
      "lifeExp           30.332\n",
      "pop              9240934\n",
      "gdpPercap      820.85303\n",
      "Name: 1, dtype: object\n"
     ]
    }
   ],
   "source": [
    "#this prints the data in the row at index number 1\n",
    "print(gapminder.iloc[1])"
   ]
  },
  {
   "cell_type": "code",
   "execution_count": 16,
   "metadata": {},
   "outputs": [
    {
     "name": "stdout",
     "output_type": "stream",
     "text": [
      "country      Afghanistan\n",
      "continent           Asia\n",
      "year                1957\n",
      "lifeExp           30.332\n",
      "pop              9240934\n",
      "gdpPercap      820.85303\n",
      "Name: 1, dtype: object\n"
     ]
    }
   ],
   "source": [
    "#since the index in our dataframe is also integers, this also works with .loc\n",
    "print(gapminder.loc[1])"
   ]
  },
  {
   "cell_type": "code",
   "execution_count": 17,
   "metadata": {},
   "outputs": [
    {
     "name": "stdout",
     "output_type": "stream",
     "text": [
      "       country continent  year  lifeExp       pop   gdpPercap\n",
      "0  Afghanistan      Asia  1952   28.801   8425333  779.445314\n",
      "1  Afghanistan      Asia  1957   30.332   9240934  820.853030\n",
      "2  Afghanistan      Asia  1962   31.997  10267083  853.100710\n",
      "3  Afghanistan      Asia  1967   34.020  11537966  836.197138\n",
      "4  Afghanistan      Asia  1972   36.088  13079460  739.981106\n"
     ]
    }
   ],
   "source": [
    "#prints the data in the first 5 rows\n",
    "print(gapminder.head(5))"
   ]
  },
  {
   "cell_type": "code",
   "execution_count": 18,
   "metadata": {},
   "outputs": [
    {
     "name": "stdout",
     "output_type": "stream",
     "text": [
      "       country continent  year  lifeExp       pop   gdpPercap\n",
      "0  Afghanistan      Asia  1952   28.801   8425333  779.445314\n",
      "1  Afghanistan      Asia  1957   30.332   9240934  820.853030\n",
      "2  Afghanistan      Asia  1962   31.997  10267083  853.100710\n",
      "3  Afghanistan      Asia  1967   34.020  11537966  836.197138\n",
      "4  Afghanistan      Asia  1972   36.088  13079460  739.981106\n"
     ]
    }
   ],
   "source": [
    "#prints the data in the first 5 rows\n",
    "print(gapminder.iloc[0:5])"
   ]
  },
  {
   "cell_type": "code",
   "execution_count": 19,
   "metadata": {},
   "outputs": [
    {
     "name": "stdout",
     "output_type": "stream",
     "text": [
      "0         Asia\n",
      "1         Asia\n",
      "2         Asia\n",
      "3         Asia\n",
      "4         Asia\n",
      "         ...  \n",
      "1699    Africa\n",
      "1700    Africa\n",
      "1701    Africa\n",
      "1702    Africa\n",
      "1703    Africa\n",
      "Name: continent, Length: 1704, dtype: object\n"
     ]
    }
   ],
   "source": [
    "#prints the data in the column 'continent'\n",
    "print(gapminder.loc[:,'continent'])"
   ]
  },
  {
   "cell_type": "code",
   "execution_count": 20,
   "metadata": {},
   "outputs": [
    {
     "name": "stdout",
     "output_type": "stream",
     "text": [
      "0         Asia\n",
      "1         Asia\n",
      "2         Asia\n",
      "3         Asia\n",
      "4         Asia\n",
      "         ...  \n",
      "1699    Africa\n",
      "1700    Africa\n",
      "1701    Africa\n",
      "1702    Africa\n",
      "1703    Africa\n",
      "Name: continent, Length: 1704, dtype: object\n"
     ]
    }
   ],
   "source": [
    "#prints the data in the column 'continent'\n",
    "print(gapminder['continent'])"
   ]
  },
  {
   "cell_type": "code",
   "execution_count": 21,
   "metadata": {},
   "outputs": [
    {
     "name": "stdout",
     "output_type": "stream",
     "text": [
      "     continent      country\n",
      "0         Asia  Afghanistan\n",
      "1         Asia  Afghanistan\n",
      "2         Asia  Afghanistan\n",
      "3         Asia  Afghanistan\n",
      "4         Asia  Afghanistan\n",
      "...        ...          ...\n",
      "1699    Africa     Zimbabwe\n",
      "1700    Africa     Zimbabwe\n",
      "1701    Africa     Zimbabwe\n",
      "1702    Africa     Zimbabwe\n",
      "1703    Africa     Zimbabwe\n",
      "\n",
      "[1704 rows x 2 columns]\n"
     ]
    }
   ],
   "source": [
    "#prints the data in the columns 'continent' and 'country' \n",
    "print(gapminder[['continent','country']])"
   ]
  },
  {
   "cell_type": "markdown",
   "metadata": {},
   "source": [
    "We could keep going about these types of arrangements, but the point is that there's a bunch of ways to do the same thing in Pandas. Just choose whatever works and makes sense to you."
   ]
  },
  {
   "cell_type": "markdown",
   "metadata": {},
   "source": [
    "The last thing we'll look at in this part of NME is with filtering dataframes. There's another way to do this that's much easier, but it's good to know how to do it in Python (I'll teach you the easy way later). Just like the boolean indexing we did with lists, the same stuff applies here, since dataframes are basically just combined lists. The data we loaded in only goes up to 2007 and starts at 1957. Let's say we didn't care about data from dates other than 1980 to 2000. We go about filtering the non-needed data in a familiar style:"
   ]
  },
  {
   "cell_type": "code",
   "execution_count": 22,
   "metadata": {},
   "outputs": [
    {
     "data": {
      "text/html": [
       "<div>\n",
       "<style scoped>\n",
       "    .dataframe tbody tr th:only-of-type {\n",
       "        vertical-align: middle;\n",
       "    }\n",
       "\n",
       "    .dataframe tbody tr th {\n",
       "        vertical-align: top;\n",
       "    }\n",
       "\n",
       "    .dataframe thead th {\n",
       "        text-align: right;\n",
       "    }\n",
       "</style>\n",
       "<table border=\"1\" class=\"dataframe\">\n",
       "  <thead>\n",
       "    <tr style=\"text-align: right;\">\n",
       "      <th></th>\n",
       "      <th>country</th>\n",
       "      <th>continent</th>\n",
       "      <th>year</th>\n",
       "      <th>lifeExp</th>\n",
       "      <th>pop</th>\n",
       "      <th>gdpPercap</th>\n",
       "    </tr>\n",
       "  </thead>\n",
       "  <tbody>\n",
       "    <tr>\n",
       "      <th>6</th>\n",
       "      <td>Afghanistan</td>\n",
       "      <td>Asia</td>\n",
       "      <td>1982</td>\n",
       "      <td>39.854</td>\n",
       "      <td>12881816</td>\n",
       "      <td>978.011439</td>\n",
       "    </tr>\n",
       "    <tr>\n",
       "      <th>7</th>\n",
       "      <td>Afghanistan</td>\n",
       "      <td>Asia</td>\n",
       "      <td>1987</td>\n",
       "      <td>40.822</td>\n",
       "      <td>13867957</td>\n",
       "      <td>852.395945</td>\n",
       "    </tr>\n",
       "    <tr>\n",
       "      <th>8</th>\n",
       "      <td>Afghanistan</td>\n",
       "      <td>Asia</td>\n",
       "      <td>1992</td>\n",
       "      <td>41.674</td>\n",
       "      <td>16317921</td>\n",
       "      <td>649.341395</td>\n",
       "    </tr>\n",
       "    <tr>\n",
       "      <th>9</th>\n",
       "      <td>Afghanistan</td>\n",
       "      <td>Asia</td>\n",
       "      <td>1997</td>\n",
       "      <td>41.763</td>\n",
       "      <td>22227415</td>\n",
       "      <td>635.341351</td>\n",
       "    </tr>\n",
       "    <tr>\n",
       "      <th>18</th>\n",
       "      <td>Albania</td>\n",
       "      <td>Europe</td>\n",
       "      <td>1982</td>\n",
       "      <td>70.420</td>\n",
       "      <td>2780097</td>\n",
       "      <td>3630.880722</td>\n",
       "    </tr>\n",
       "    <tr>\n",
       "      <th>...</th>\n",
       "      <td>...</td>\n",
       "      <td>...</td>\n",
       "      <td>...</td>\n",
       "      <td>...</td>\n",
       "      <td>...</td>\n",
       "      <td>...</td>\n",
       "    </tr>\n",
       "    <tr>\n",
       "      <th>1689</th>\n",
       "      <td>Zambia</td>\n",
       "      <td>Africa</td>\n",
       "      <td>1997</td>\n",
       "      <td>40.238</td>\n",
       "      <td>9417789</td>\n",
       "      <td>1071.353818</td>\n",
       "    </tr>\n",
       "    <tr>\n",
       "      <th>1698</th>\n",
       "      <td>Zimbabwe</td>\n",
       "      <td>Africa</td>\n",
       "      <td>1982</td>\n",
       "      <td>60.363</td>\n",
       "      <td>7636524</td>\n",
       "      <td>788.855041</td>\n",
       "    </tr>\n",
       "    <tr>\n",
       "      <th>1699</th>\n",
       "      <td>Zimbabwe</td>\n",
       "      <td>Africa</td>\n",
       "      <td>1987</td>\n",
       "      <td>62.351</td>\n",
       "      <td>9216418</td>\n",
       "      <td>706.157306</td>\n",
       "    </tr>\n",
       "    <tr>\n",
       "      <th>1700</th>\n",
       "      <td>Zimbabwe</td>\n",
       "      <td>Africa</td>\n",
       "      <td>1992</td>\n",
       "      <td>60.377</td>\n",
       "      <td>10704340</td>\n",
       "      <td>693.420786</td>\n",
       "    </tr>\n",
       "    <tr>\n",
       "      <th>1701</th>\n",
       "      <td>Zimbabwe</td>\n",
       "      <td>Africa</td>\n",
       "      <td>1997</td>\n",
       "      <td>46.809</td>\n",
       "      <td>11404948</td>\n",
       "      <td>792.449960</td>\n",
       "    </tr>\n",
       "  </tbody>\n",
       "</table>\n",
       "<p>568 rows × 6 columns</p>\n",
       "</div>"
      ],
      "text/plain": [
       "          country continent  year  lifeExp       pop    gdpPercap\n",
       "6     Afghanistan      Asia  1982   39.854  12881816   978.011439\n",
       "7     Afghanistan      Asia  1987   40.822  13867957   852.395945\n",
       "8     Afghanistan      Asia  1992   41.674  16317921   649.341395\n",
       "9     Afghanistan      Asia  1997   41.763  22227415   635.341351\n",
       "18        Albania    Europe  1982   70.420   2780097  3630.880722\n",
       "...           ...       ...   ...      ...       ...          ...\n",
       "1689       Zambia    Africa  1997   40.238   9417789  1071.353818\n",
       "1698     Zimbabwe    Africa  1982   60.363   7636524   788.855041\n",
       "1699     Zimbabwe    Africa  1987   62.351   9216418   706.157306\n",
       "1700     Zimbabwe    Africa  1992   60.377  10704340   693.420786\n",
       "1701     Zimbabwe    Africa  1997   46.809  11404948   792.449960\n",
       "\n",
       "[568 rows x 6 columns]"
      ]
     },
     "execution_count": 22,
     "metadata": {},
     "output_type": "execute_result"
    }
   ],
   "source": [
    "filtered_gapminder = gapminder[(gapminder['year'] >= 1980) & (gapminder['year'] <= 2000)]\n",
    "\n",
    "filtered_gapminder"
   ]
  },
  {
   "cell_type": "markdown",
   "metadata": {},
   "source": [
    "Note that the parenthesis are very important here - try removing them and see what happens. This occurs because Python places higher emphasis on the `&` operator than the `>=` comparison, so it misinterprets what we actually want. Also, that `&` is just an 'and'. "
   ]
  },
  {
   "cell_type": "markdown",
   "metadata": {},
   "source": [
    "Now it's your turn: I want you to do the following:\n",
    "\n",
    "1. Filter the `gapminder` dataset to just include the data for 'United States', put this into a new dataframe called `great_gapminder`\n",
    "2. Filter the `great_gapminder` dataset to just include the data for years that end in 7 (remember to re-assign it to `great_gapminder`)\n",
    "   1. This might be kinda tricky - think about how we might use the `%` operator\n",
    "3. Print `great_gapminder` to show just the `year` and `gdpPercap` columns"
   ]
  },
  {
   "cell_type": "code",
   "execution_count": 49,
   "metadata": {},
   "outputs": [
    {
     "name": "stdout",
     "output_type": "stream",
     "text": [
      "      year    gdpPercap\n",
      "1609  1957  14847.12712\n",
      "1611  1967  19530.36557\n",
      "1613  1977  24072.63213\n",
      "1615  1987  29884.35041\n",
      "1617  1997  35767.43303\n",
      "1619  2007  42951.65309\n"
     ]
    }
   ],
   "source": [
    "#B1: your code here\n",
    "great_gapminder = gapminder[(gapminder['country'] == 'United States')]\n",
    "#print (great_gapminder)\n",
    "\n",
    "great_gapminder = great_gapminder[(great_gapminder['year']%10==7)]\n",
    "#print (great_gapminder)\n",
    "\n",
    "print(great_gapminder[['year','gdpPercap']])\n",
    "\n"
   ]
  },
  {
   "cell_type": "markdown",
   "metadata": {},
   "source": [
    "Expected Output:\n",
    "\n",
    "```\n",
    "      year    gdpPercap\n",
    "1609  1957  14847.12712\n",
    "1611  1967  19530.36557\n",
    "1613  1977  24072.63213\n",
    "1615  1987  29884.35041\n",
    "1617  1997  35767.43303\n",
    "1619  2007  42951.65309\n",
    "```"
   ]
  },
  {
   "cell_type": "markdown",
   "metadata": {},
   "source": [
    "That's pretty much the basics of indexing dataframes and filtering them using Pandas. Obviously there's way more stuff that you could do and way more things for me to teach, but it's really not practical: nobody knows NumPy and Pandas that well - documentation exists for a reason, and Google is your friend. If you want to try to do something in Python, just Google how to do that skill and there'll be thousands of people that have had that same exact desire in the past.\n",
    "\n",
    "The point of this workbook is just to make sure that you understand *what* your actually Googling and making sure you're not Googling everything."
   ]
  }
 ],
 "metadata": {
  "kernelspec": {
   "display_name": "datajournal",
   "language": "python",
   "name": "python3"
  },
  "language_info": {
   "codemirror_mode": {
    "name": "ipython",
    "version": 3
   },
   "file_extension": ".py",
   "mimetype": "text/x-python",
   "name": "python",
   "nbconvert_exporter": "python",
   "pygments_lexer": "ipython3",
   "version": "3.13.7"
  }
 },
 "nbformat": 4,
 "nbformat_minor": 2
}
